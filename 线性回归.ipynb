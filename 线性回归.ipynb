{
 "cells": [
  {
   "cell_type": "code",
   "execution_count": 103,
   "metadata": {},
   "outputs": [],
   "source": [
    "import torch\n",
    "import torch.nn as nn\n",
    "import math"
   ]
  },
  {
   "cell_type": "code",
   "execution_count": 104,
   "metadata": {},
   "outputs": [],
   "source": [
    "# 输入数据\n",
    "xTrain=torch.Tensor([30.,33.,35.,37.,39.,44.,46.,50.]).view([-1,1])\n",
    "\n",
    "# 输出数据\n",
    "yTrain=torch.Tensor([30.,34.,37.,39.,42.,46.,48.,51.]).view([-1,1])"
   ]
  },
  {
   "cell_type": "code",
   "execution_count": 105,
   "metadata": {},
   "outputs": [],
   "source": [
    "class Learning(nn.Module):\n",
    "\n",
    "    def __init__(self, input, output):\n",
    "        super(Learning, self).__init__()\n",
    "        self.linear = nn.Linear(input,output)\n",
    "\n",
    "    def forward(self, x):\n",
    "        return self.linear(x)\n",
    "\n",
    "model=Learning(1,1)\n"
   ]
  },
  {
   "cell_type": "code",
   "execution_count": 106,
   "metadata": {},
   "outputs": [
    {
     "name": "stdout",
     "output_type": "stream",
     "text": [
      "第0次迭代，损失为219.96238708496094\n",
      "第1000次迭代，损失为0.6875573396682739\n",
      "第2000次迭代，损失为0.6873036623001099\n",
      "第3000次迭代，损失为0.6870532035827637\n",
      "第4000次迭代，损失为0.6868007183074951\n",
      "第5000次迭代，损失为0.6865551471710205\n",
      "第6000次迭代，损失为0.6863109469413757\n",
      "第7000次迭代，损失为0.6860688328742981\n",
      "第8000次迭代，损失为0.6858296394348145\n",
      "第9000次迭代，损失为0.6855918169021606\n"
     ]
    }
   ],
   "source": [
    "epochs=10000\n",
    "learning_rate=0.0001\n",
    "optimizer=torch.optim.SGD(model.parameters(),lr=learning_rate)\n",
    "criterion=nn.MSELoss()\n",
    "\n",
    "for i in range(epochs):\n",
    "\n",
    "    # 清零每一次迭代\n",
    "    optimizer.zero_grad()\n",
    "\n",
    "    # 前向传播\n",
    "    output=model(xTrain)\n",
    "\n",
    "    # 计算损失\n",
    "    loss=criterion(output,yTrain)\n",
    "\n",
    "    # 反向传播\n",
    "    loss.backward()\n",
    "\n",
    "    # 更新参数\n",
    "    optimizer.step()\n",
    "\n",
    "    if i%1000==0:\n",
    "        print(f\"第{i}次迭代，损失为{loss.item()}\")"
   ]
  },
  {
   "cell_type": "code",
   "execution_count": 116,
   "metadata": {},
   "outputs": [
    {
     "name": "stdout",
     "output_type": "stream",
     "text": [
      "预测值为tensor([49.0996], grad_fn=<AddBackward0>),处理后得到49\n",
      "预测值为tensor([57.6145], grad_fn=<AddBackward0>),处理后得到57\n"
     ]
    }
   ],
   "source": [
    "for i in [47,55]:\n",
    "    predicted=model(torch.Tensor([i]))\n",
    "    print(f\"预测值为{predicted},处理后得到{int(predicted)}\")"
   ]
  },
  {
   "cell_type": "code",
   "execution_count": null,
   "metadata": {},
   "outputs": [
    {
     "data": {
      "text/plain": [
       "<All keys matched successfully>"
      ]
     },
     "execution_count": 101,
     "metadata": {},
     "output_type": "execute_result"
    }
   ],
   "source": [
    "torch.save(model.state_dict(),'model.pkl')\n",
    "model.load_state_dict(torch.load('model.pkl'))"
   ]
  }
 ],
 "metadata": {
  "kernelspec": {
   "display_name": "Python 3.10.4 ('learning')",
   "language": "python",
   "name": "python3"
  },
  "language_info": {
   "codemirror_mode": {
    "name": "ipython",
    "version": 3
   },
   "file_extension": ".py",
   "mimetype": "text/x-python",
   "name": "python",
   "nbconvert_exporter": "python",
   "pygments_lexer": "ipython3",
   "version": "3.10.4"
  },
  "orig_nbformat": 4,
  "vscode": {
   "interpreter": {
    "hash": "c3963059e8e58b9e61cd99bfe9abf3f2364125f78b7ede856039bfe8c4eb34b3"
   }
  }
 },
 "nbformat": 4,
 "nbformat_minor": 2
}
