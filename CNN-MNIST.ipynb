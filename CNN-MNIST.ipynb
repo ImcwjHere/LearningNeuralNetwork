{
 "cells": [
  {
   "cell_type": "code",
   "execution_count": 9,
   "metadata": {},
   "outputs": [],
   "source": [
    "import torch\n",
    "import torch.nn as nn\n",
    "import torch.optim as optim\n",
    "import torch.nn.functional as F\n",
    "from torchvision import datasets,transforms\n",
    "from torch.utils.data import DataLoader\n",
    "import matplotlib.pyplot as plt\n",
    "%matplotlib inline"
   ]
  },
  {
   "cell_type": "code",
   "execution_count": 10,
   "metadata": {},
   "outputs": [],
   "source": [
    "train_dataset = datasets.MNIST(\n",
    "                            root='./data',\n",
    "                            train=True,\n",
    "                            transform=transforms.ToTensor(),\n",
    "                            download=True)\n",
    "test_dataset = datasets.MNIST(\n",
    "                            root='./data',\n",
    "                            train=False,\n",
    "                            transform=transforms.ToTensor(),\n",
    "                            download=True)"
   ]
  },
  {
   "cell_type": "code",
   "execution_count": 11,
   "metadata": {},
   "outputs": [
    {
     "name": "stdout",
     "output_type": "stream",
     "text": [
      "torch.Size([10, 1, 28, 28])\n",
      "一个batch_size执行完了\n"
     ]
    }
   ],
   "source": [
    "batch_size = 10\n",
    "train_loader = DataLoader(\n",
    "                    dataset=train_dataset,\n",
    "                    batch_size=batch_size,\n",
    "                    shuffle=True)\n",
    "test_loader = DataLoader(\n",
    "                    dataset=test_dataset,\n",
    "                    batch_size=batch_size,\n",
    "                    shuffle=True)\n",
    "# DataLoader存储数据格式为[[n个图片（28x28）],[n个答案]]\n",
    "for images,label in train_loader:\n",
    "    print(images.size()) # [[28x28二维数组],...,...，[28x28二维数组]]\n",
    "    print(\"一个batch_size执行完了\") # 执行完自动跳到下一个batch_size\n",
    "    # 总数据量为60000，batch_size为10000，输出6次print\n",
    "    break\n"
   ]
  },
  {
   "cell_type": "code",
   "execution_count": 12,
   "metadata": {},
   "outputs": [],
   "source": [
    "class CNN(nn.Module):\n",
    "    def __init__(self):\n",
    "        super(CNN, self).__init__()\n",
    "        # 输入1通道28x28\n",
    "        self.conv1 = nn.Sequential( # 卷积模块\n",
    "            nn.Conv2d( # 卷积层\n",
    "                in_channels = 1, # 一通道，即原灰度图\n",
    "                out_channels = 16, # 得到多少个特征图\n",
    "                kernel_size = 5, # 卷积核大小（用5x5的区域提取特征图）\n",
    "                stride = 1, # 步长\n",
    "                padding = 2, # 填充（周围一圈补“0”）\n",
    "            ),\n",
    "            nn.ReLU(), # 激活函数\n",
    "            nn.MaxPool2d( # 池化层\n",
    "                kernel_size=2 # 池化核大小（在2x2区域取最大特征值）\n",
    "            )\n",
    "        ) # 得到16通道14x14，[(原图像素-卷积核大小+2*填充)/步长+1]/池化核大小\n",
    "        \n",
    "        # 输入16通道14x14\n",
    "        self.conv2 = nn.Sequential( # 卷积模块\n",
    "            nn.Conv2d(16, 32, 5, 1, 2),\n",
    "            nn.ReLU(),\n",
    "            nn.MaxPool2d(2)\n",
    "        ) # 得到32通道7x7，[(原图像素-卷积核大小+2*填充)/步长+1]/池化核大小\n",
    "        self.fc1 = nn.Linear(32*7*7, 200)\n",
    "        self.fc2 = nn.Linear(200, 100)\n",
    "        self.out = nn.Linear(100, 10) # 全连接层，输出10个类别\n",
    "\n",
    "    def forward(self, x):\n",
    "        x = self.conv1(x)\n",
    "        x = self.conv2(x)\n",
    "        x = x.view(x.size(0), -1) # 结果为(batch_size, 32*7*7)\n",
    "        x = F.relu(self.fc1(x))\n",
    "        x = F.relu(self.fc2(x))\n",
    "        return self.out(x)\n"
   ]
  },
  {
   "cell_type": "code",
   "execution_count": 13,
   "metadata": {},
   "outputs": [
    {
     "name": "stdout",
     "output_type": "stream",
     "text": [
      "加载成功\n"
     ]
    }
   ],
   "source": [
    "def load():\n",
    "    try:\n",
    "        net.load_state_dict(torch.load('CNN-MNIST.pkl'))\n",
    "        print(\"加载成功\")\n",
    "    except:\n",
    "        print(\"加载失败\")\n",
    "\n",
    "load()"
   ]
  },
  {
   "cell_type": "code",
   "execution_count": 14,
   "metadata": {},
   "outputs": [],
   "source": [
    "# 实例化模型\n",
    "net = CNN()\n",
    "# 损失函数\n",
    "criterion = nn.CrossEntropyLoss()\n",
    "# 学习率\n",
    "lr = 0.001"
   ]
  },
  {
   "cell_type": "code",
   "execution_count": 15,
   "metadata": {},
   "outputs": [
    {
     "name": "stdout",
     "output_type": "stream",
     "text": [
      "正确率为9.58%\n"
     ]
    }
   ],
   "source": [
    "def test():\n",
    "    net.eval()\n",
    "    total = len(test_dataset)\n",
    "    correct = 0\n",
    "    with torch.no_grad():\n",
    "        for i,(images,labels) in enumerate(test_loader):\n",
    "            correct_ans = labels.tolist()\n",
    "            predicted = torch.max(net(images).data,1).indices.tolist()\n",
    "            for j in range(len(correct_ans)):\n",
    "                if correct_ans[j] == predicted[j]:\n",
    "                    correct += 1\n",
    "    return correct/total\n",
    "\n",
    "\n",
    "print(f\"正确率为{test()*100}%\")"
   ]
  },
  {
   "cell_type": "code",
   "execution_count": 16,
   "metadata": {},
   "outputs": [],
   "source": [
    "def start(epochs,lr):\n",
    "    max_accurate = 0\n",
    "    for epoch in range(epochs):\n",
    "        net.train()\n",
    "        total_loss = 0\n",
    "        for i,(images,labels) in enumerate(train_loader):\n",
    "            # 前向传播\n",
    "            output = net(images)\n",
    "            # 计算损失\n",
    "            loss = criterion(output, labels)\n",
    "            # 优化器\n",
    "            optimizer = optim.Adam(net.parameters(), lr=lr)\n",
    "            # 梯度清零\n",
    "            optimizer.zero_grad()\n",
    "            # 反向传播\n",
    "            loss.backward()\n",
    "            # 更新参数\n",
    "            optimizer.step()\n",
    "            # 累加损失\n",
    "            total_loss += loss.item()\n",
    "        \n",
    "        # 每训练一个epoch，计算一次正确率\n",
    "        accurate = test() # 注意执行之后，模型被设置成了eval模式\n",
    "        if accurate > max_accurate:\n",
    "            max_accurate = accurate\n",
    "            torch.save(net.state_dict(), 'CNN-MNIST.pkl')\n",
    "            print(f\"保存成功，当前最高正确率为{max_accurate*100}%\")\n",
    "        \n",
    "        # 每训练一个epoch，打印一次损失\n",
    "        print(f'{epoch}: loss {total_loss}')\n",
    "\n",
    "start(30,lr)"
   ]
  },
  {
   "cell_type": "code",
   "execution_count": 180,
   "metadata": {},
   "outputs": [
    {
     "name": "stdout",
     "output_type": "stream",
     "text": [
      "正确答案为:5\n",
      "预测答案为:5\n"
     ]
    },
    {
     "data": {
      "image/png": "[encoded data removed]",
      "text/plain": [
       "<Figure size 432x288 with 1 Axes>"
      ]
     },
     "metadata": {
      "needs_background": "light"
     },
     "output_type": "display_data"
    },
    {
     "name": "stdout",
     "output_type": "stream",
     "text": [
      "正确答案为:1\n",
      "预测答案为:8\n"
     ]
    },
    {
     "data": {
      "image/png": "[encoded data removed]",
      "text/plain": [
       "<Figure size 432x288 with 1 Axes>"
      ]
     },
     "metadata": {
      "needs_background": "light"
     },
     "output_type": "display_data"
    },
    {
     "name": "stdout",
     "output_type": "stream",
     "text": [
      "正确答案为:1\n",
      "预测答案为:1\n"
     ]
    },
    {
     "data": {
      "image/png": "[encoded data removed]",
      "text/plain": [
       "<Figure size 432x288 with 1 Axes>"
      ]
     },
     "metadata": {
      "needs_background": "light"
     },
     "output_type": "display_data"
    }
   ],
   "source": [
    "def show(n=1):\n",
    "    net.eval()\n",
    "    for i in range(n):\n",
    "        images,labels = next(iter(test_loader))\n",
    "        print(f\"正确答案为:{labels[0]}\")\n",
    "        print(f\"预测答案为:{torch.max(net(images[:1,:,:,:]),1).indices.item()}\")\n",
    "        plt.imshow(images[0][0], cmap='gray')\n",
    "        plt.show()\n",
    "\n",
    "show(3)"
   ]
  }
 ],
 "metadata": {
  "kernelspec": {
   "display_name": "Python 3.10.4 ('learning')",
   "language": "python",
   "name": "python3"
  },
  "language_info": {
   "codemirror_mode": {
    "name": "ipython",
    "version": 3
   },
   "file_extension": ".py",
   "mimetype": "text/x-python",
   "name": "python",
   "nbconvert_exporter": "python",
   "pygments_lexer": "ipython3",
   "version": "3.10.4"
  },
  "orig_nbformat": 4,
  "vscode": {
   "interpreter": {
    "hash": "c3963059e8e58b9e61cd99bfe9abf3f2364125f78b7ede856039bfe8c4eb34b3"
   }
  }
 },
 "nbformat": 4,
 "nbformat_minor": 2
}
