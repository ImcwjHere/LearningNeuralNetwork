{
 "cells": [
  {
   "cell_type": "code",
   "execution_count": 1,
   "metadata": {},
   "outputs": [
    {
     "name": "stderr",
     "output_type": "stream",
     "text": [
      "d:\\Anaconda3\\envs\\pydml\\lib\\site-packages\\tqdm\\auto.py:22: TqdmWarning: IProgress not found. Please update jupyter and ipywidgets. See https://ipywidgets.readthedocs.io/en/stable/user_install.html\n",
      "  from .autonotebook import tqdm as notebook_tqdm\n"
     ]
    }
   ],
   "source": [
    "import torch\n",
    "import torch.nn as nn\n",
    "import torch.nn.functional as F\n",
    "import torch.optim as optim\n",
    "from torch.utils.data import DataLoader\n",
    "from torchvision import datasets, transforms\n",
    "import matplotlib.pyplot as plt\n",
    "%matplotlib inline"
   ]
  },
  {
   "cell_type": "code",
   "execution_count": 2,
   "metadata": {},
   "outputs": [],
   "source": [
    "device = torch.device(\"dml\")"
   ]
  },
  {
   "cell_type": "code",
   "execution_count": 3,
   "metadata": {},
   "outputs": [
    {
     "data": {
      "text/plain": [
       "False"
      ]
     },
     "execution_count": 3,
     "metadata": {},
     "output_type": "execute_result"
    }
   ],
   "source": [
    "torch.cuda.is_available()"
   ]
  },
  {
   "cell_type": "code",
   "execution_count": 4,
   "metadata": {},
   "outputs": [
    {
     "data": {
      "text/plain": [
       "tensor([[1, 2, 3],\n",
       "        [1, 2, 3]], device='dml')"
      ]
     },
     "execution_count": 4,
     "metadata": {},
     "output_type": "execute_result"
    }
   ],
   "source": [
    "torch.tensor([[1, 2, 3], [1, 2, 3]]).to(device)"
   ]
  },
  {
   "cell_type": "code",
   "execution_count": 5,
   "metadata": {},
   "outputs": [],
   "source": [
    "batch_size = 32\n",
    "train_datasets = datasets.CIFAR10(root='./data', train=True, transform=transforms.ToTensor(), download=False)\n",
    "test_datasets = datasets.CIFAR10(root='./data', train=False, transform=transforms.ToTensor(), download=False)\n",
    "train_data = DataLoader(train_datasets, batch_size=batch_size, shuffle=True)\n",
    "test_data = DataLoader(test_datasets, batch_size=batch_size, shuffle=True)"
   ]
  },
  {
   "cell_type": "code",
   "execution_count": 6,
   "metadata": {},
   "outputs": [],
   "source": [
    "description = {0: 'airplane', 1: 'automobile', 2: 'bird', 3: 'cat', 4: 'deer', 5: 'dog', 6: 'frog', 7: 'horse', 8: 'ship', 9: 'truck'}"
   ]
  },
  {
   "cell_type": "code",
   "execution_count": 7,
   "metadata": {},
   "outputs": [
    {
     "name": "stdout",
     "output_type": "stream",
     "text": [
      "ship\n"
     ]
    },
    {
     "data": {
      "image/png": "[encoded data removed]",
      "text/plain": [
       "<Figure size 432x288 with 1 Axes>"
      ]
     },
     "metadata": {
      "needs_background": "light"
     },
     "output_type": "display_data"
    }
   ],
   "source": [
    "images, labels = next(iter(test_data))\n",
    "plt.imshow(images[0].permute(1, 2, 0))\n",
    "print(description[labels[0].item()])"
   ]
  },
  {
   "cell_type": "code",
   "execution_count": 8,
   "metadata": {},
   "outputs": [
    {
     "data": {
      "text/plain": [
       "(512, 16.0)"
      ]
     },
     "execution_count": 8,
     "metadata": {},
     "output_type": "execute_result"
    }
   ],
   "source": [
    "def caculate_infos(size,parameters):\n",
    "    return (parameters[1],((size-parameters[2]+2*parameters[4])/parameters[3])+1)\n",
    "caculate_infos(16,(256,512,3,1,1))\n"
   ]
  },
  {
   "cell_type": "code",
   "execution_count": 9,
   "metadata": {},
   "outputs": [],
   "source": [
    "class CNN(nn.Module):\n",
    "    def __init__(self):\n",
    "        super(CNN, self).__init__()\n",
    "        self.conv1 = nn.Sequential(\n",
    "            nn.Conv2d(3, 64, kernel_size=3, stride=1, padding=1),\n",
    "            nn.BatchNorm2d(64),\n",
    "            nn.ReLU(inplace=True),\n",
    "            nn.Conv2d(64, 64, kernel_size=3, stride=1, padding=1),\n",
    "            nn.BatchNorm2d(64),\n",
    "            nn.ReLU(inplace=True),\n",
    "            nn.MaxPool2d(kernel_size=2, stride=2)\n",
    "        ) # 64,16*16\n",
    "        self.conv2 = nn.Sequential(\n",
    "            nn.Conv2d(64, 128, kernel_size=3, stride=1, padding=1),\n",
    "            nn.BatchNorm2d(128),\n",
    "            nn.ReLU(inplace=True),\n",
    "            nn.Conv2d(128, 128, kernel_size=3, stride=1, padding=1),\n",
    "            nn.BatchNorm2d(128),\n",
    "            nn.ReLU(inplace=True),\n",
    "            nn.MaxPool2d(kernel_size=2, stride=2)\n",
    "        ) # 128,8*8\n",
    "        self.conv3 = nn.Sequential(\n",
    "            nn.Conv2d(128, 256, kernel_size=3, stride=1, padding=1),\n",
    "            nn.BatchNorm2d(256),\n",
    "            nn.ReLU(inplace=True),\n",
    "            nn.Conv2d(256, 256, kernel_size=3, stride=1, padding=1),\n",
    "            nn.BatchNorm2d(256),\n",
    "            nn.ReLU(inplace=True),\n",
    "            nn.Conv2d(256, 256, kernel_size=3, stride=1, padding=1),\n",
    "            nn.BatchNorm2d(256),\n",
    "            nn.ReLU(inplace=True),\n",
    "            nn.MaxPool2d(kernel_size=2, stride=2)\n",
    "        ) # 256,4*4\n",
    "        self.conv4 = nn.Sequential(\n",
    "            nn.Conv2d(256, 512, kernel_size=3, stride=1, padding=1),\n",
    "            nn.BatchNorm2d(512),\n",
    "            nn.ReLU(inplace=True),\n",
    "            nn.Conv2d(512, 512, kernel_size=3, stride=1, padding=1),\n",
    "            nn.BatchNorm2d(512),\n",
    "            nn.ReLU(inplace=True),\n",
    "            nn.Conv2d(512, 512, kernel_size=3, stride=1, padding=1),\n",
    "            nn.BatchNorm2d(512),\n",
    "            nn.ReLU(inplace=True),\n",
    "            nn.MaxPool2d(kernel_size=2, stride=2)\n",
    "        ) # 512,2*2\n",
    "        self.conv5 = nn.Sequential(\n",
    "            nn.Conv2d(512, 512, kernel_size=3, stride=1, padding=1),\n",
    "            nn.BatchNorm2d(512),\n",
    "            nn.ReLU(inplace=True),\n",
    "            nn.Conv2d(512, 512, kernel_size=3, stride=1, padding=1),\n",
    "            nn.BatchNorm2d(512),\n",
    "            nn.ReLU(inplace=True),\n",
    "            nn.Conv2d(512, 512, kernel_size=3, stride=1, padding=1),\n",
    "            nn.BatchNorm2d(512),\n",
    "            nn.ReLU(inplace=True),\n",
    "            nn.MaxPool2d(kernel_size=2, stride=2),\n",
    "            nn.Flatten()\n",
    "        ) # 512,1*1\n",
    "        self.fc1 = nn.Sequential(\n",
    "            nn.Linear(512, 512),\n",
    "            nn.ReLU(inplace=True)\n",
    "        )\n",
    "        self.fc2 = nn.Sequential(\n",
    "            nn.Linear(512, 256),\n",
    "            nn.ReLU(inplace=True)\n",
    "        )\n",
    "        self.fc3 = nn.Sequential(\n",
    "            nn.Linear(256, 128),\n",
    "            nn.ReLU(inplace=True)\n",
    "        )\n",
    "        self.out = nn.Linear(128,10)\n",
    "    \n",
    "    def forward(self, x):\n",
    "        x = self.conv1(x)\n",
    "        x = self.conv2(x)\n",
    "        x = self.conv3(x)\n",
    "        x = self.conv4(x)\n",
    "        x = self.conv5(x)\n",
    "        x = self.fc1(x)\n",
    "        x = self.fc2(x)\n",
    "        x = self.fc3(x)\n",
    "        x = self.out(x)\n",
    "        return x\n",
    "\n",
    "net = CNN()\n",
    "net = net.to(device)"
   ]
  },
  {
   "cell_type": "code",
   "execution_count": 10,
   "metadata": {},
   "outputs": [],
   "source": [
    "loss_function = nn.CrossEntropyLoss()"
   ]
  },
  {
   "cell_type": "code",
   "execution_count": 11,
   "metadata": {},
   "outputs": [
    {
     "name": "stdout",
     "output_type": "stream",
     "text": [
      "epoch 0: 0.40965\n",
      "epoch 1: 0.41405 已保存\n",
      "epoch 2: 0.4149 已保存\n",
      "epoch 3: 0.41395\n",
      "epoch 4: 0.41475\n",
      "epoch 5: 0.41515 已保存\n",
      "epoch 6: 0.41415\n",
      "epoch 7: 0.41445\n",
      "epoch 8: 0.4147\n",
      "epoch 9: 0.41465\n",
      "epoch 10: 0.415\n",
      "epoch 11: 0.41485\n",
      "epoch 12: 0.4152 已保存\n",
      "epoch 13: 0.4144\n",
      "epoch 14: 0.4143\n",
      "epoch 15: 0.41495\n",
      "epoch 16: 0.41475\n",
      "epoch 17: 0.41415\n",
      "epoch 18: 0.415\n",
      "epoch 19: 0.41475\n",
      "epoch 20: 0.4146\n",
      "epoch 21: 0.4141\n",
      "epoch 22: 0.41425\n",
      "epoch 23: 0.41465\n",
      "epoch 24: 0.4141\n",
      "epoch 25: 0.4151\n",
      "epoch 26: 0.414\n",
      "epoch 27: 0.41505\n",
      "epoch 28: 0.4139\n",
      "epoch 29: 0.41465\n"
     ]
    }
   ],
   "source": [
    "def train(epochs=1, learning_rate=0.001):\n",
    "    optimizer = optim.Adam(net.parameters(), lr=learning_rate)\n",
    "    lr_schedule = optim.lr_scheduler.ReduceLROnPlateau(optimizer, mode='max', factor=0.5, patience=3, cooldown=1)\n",
    "    max_record = 0.4152 # 手动修改\n",
    "    net.load_state_dict(torch.load('CNN-CIFAR10-dml.pkl'))\n",
    "    for epoch in range(epochs):\n",
    "        net.train()\n",
    "        for i, (images, labels) in enumerate(train_data):\n",
    "            images = images.to(device)\n",
    "            labels = labels.to(device)\n",
    "            outputs = net(images)\n",
    "            loss = loss_function(outputs, labels)\n",
    "            optimizer.zero_grad()\n",
    "            loss.backward()\n",
    "            optimizer.step()\n",
    "        \n",
    "\n",
    "        total = 10000\n",
    "        correct = 0\n",
    "        net.eval()\n",
    "        for i, (images, labels) in enumerate(test_data):\n",
    "            images = images.to(device)\n",
    "            labels = labels.to(device)\n",
    "            labels = labels.tolist()\n",
    "            outputs = net(images)\n",
    "            predict = torch.max(outputs,1).indices.tolist()\n",
    "            total += len(predict)\n",
    "            for i in range(len(predict)):\n",
    "                if predict[i] == labels[i]:\n",
    "                    correct += 1\n",
    "        \n",
    "        if correct/total>max_record:\n",
    "            max_record = correct/total\n",
    "            net.to(\"cpu\")\n",
    "            torch.save(net.state_dict(),'CNN-CIFAR10-dml.pkl')\n",
    "            net.to(device)\n",
    "            print(f\"epoch {epoch}: {max_record} 已保存\")\n",
    "        else:\n",
    "            print(f\"epoch {epoch}: {correct/total}\")\n",
    "            \n",
    "        lr_schedule.step(correct/total)\n",
    "\n",
    "train(30, learning_rate=0.001)\n"
   ]
  },
  {
   "cell_type": "code",
   "execution_count": 19,
   "metadata": {},
   "outputs": [],
   "source": [
    "# net.to(\"cpu\")\n",
    "# torch.save(net.state_dict(),'CNN-CIFAR10-dml.pkl')"
   ]
  },
  {
   "cell_type": "code",
   "execution_count": 11,
   "metadata": {},
   "outputs": [
    {
     "name": "stdout",
     "output_type": "stream",
     "text": [
      " 5.015%\n"
     ]
    }
   ],
   "source": [
    "total = 10000\n",
    "correct = 0\n",
    "for i, (images, labels) in enumerate(test_data):\n",
    "    images = images.to(device)\n",
    "    labels = labels.tolist()\n",
    "    outputs = net(images)\n",
    "    predict = torch.max(outputs,1).indices.tolist()\n",
    "    total += len(predict)\n",
    "    for i in range(len(predict)):\n",
    "        if predict[i] == labels[i]:\n",
    "            correct += 1\n",
    "print(f\" {correct/total*100}%\")"
   ]
  },
  {
   "cell_type": "code",
   "execution_count": null,
   "metadata": {},
   "outputs": [],
   "source": [
    "# test for git a"
   ]
  }
 ],
 "metadata": {
  "interpreter": {
   "hash": "3196968d684371006099b3d55edeef8ed90365227a30deaef86e5d4aa8519be0"
  },
  "kernelspec": {
   "display_name": "Python 3.10.4 64-bit",
   "language": "python",
   "name": "python3"
  },
  "language_info": {
   "codemirror_mode": {
    "name": "ipython",
    "version": 3
   },
   "file_extension": ".py",
   "mimetype": "text/x-python",
   "name": "python",
   "nbconvert_exporter": "python",
   "pygments_lexer": "ipython3",
   "version": "3.10.4"
  }
 },
 "nbformat": 4,
 "nbformat_minor": 2
}
