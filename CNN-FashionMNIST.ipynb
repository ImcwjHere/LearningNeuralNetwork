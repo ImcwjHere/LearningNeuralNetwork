{
 "cells": [
  {
   "cell_type": "code",
   "execution_count": 14,
   "metadata": {},
   "outputs": [],
   "source": [
    "import torch\n",
    "import torch.nn as nn\n",
    "import torch.nn.functional as F\n",
    "import torch.optim as optim\n",
    "from torch.utils.data import DataLoader\n",
    "from torchvision import datasets, transforms\n",
    "import matplotlib.pyplot as plt\n",
    "%matplotlib inline"
   ]
  },
  {
   "cell_type": "code",
   "execution_count": 15,
   "metadata": {},
   "outputs": [],
   "source": [
    "device = torch.device(\"cpu\")"
   ]
  },
  {
   "cell_type": "code",
   "execution_count": 16,
   "metadata": {},
   "outputs": [],
   "source": [
    "train_dataset = datasets.FashionMNIST(root='./data',train=True,download=True,transform=transforms.ToTensor())\n",
    "test_dataset = datasets.FashionMNIST(root='./data',train=False,download=True,transform=transforms.ToTensor())"
   ]
  },
  {
   "cell_type": "code",
   "execution_count": 17,
   "metadata": {},
   "outputs": [],
   "source": [
    "batch_size = 200\n",
    "train_loader = DataLoader(train_dataset,batch_size=batch_size,shuffle=True)\n",
    "test_loader = DataLoader(test_dataset,batch_size=batch_size,shuffle=True)"
   ]
  },
  {
   "cell_type": "code",
   "execution_count": 18,
   "metadata": {},
   "outputs": [],
   "source": [
    "describe = {0:'T恤(T-shirt/top)',1:'裤子(Trouser)',2:'套头衫(Pullover)',3:'连衣裙(Dress)',4:'外套(Coat)',5:'凉鞋(Sandal)',6:'衬衫(Shirt)',7:'运动鞋(Sneaker)',8:'包(Bag)',9:'靴子(Ankle boot)'}"
   ]
  },
  {
   "cell_type": "code",
   "execution_count": 19,
   "metadata": {},
   "outputs": [
    {
     "name": "stdout",
     "output_type": "stream",
     "text": [
      "衬衫(Shirt)\n"
     ]
    },
    {
     "data": {
      "image/png": "[encoded data removed]",
      "text/plain": [
       "<Figure size 432x288 with 1 Axes>"
      ]
     },
     "metadata": {
      "needs_background": "light"
     },
     "output_type": "display_data"
    }
   ],
   "source": [
    "images,labels = next(iter(train_loader))\n",
    "plt.imshow(images[0][0],cmap='gray')\n",
    "print(describe[labels[0].item()])"
   ]
  },
  {
   "cell_type": "code",
   "execution_count": 20,
   "metadata": {},
   "outputs": [],
   "source": [
    "class CNN(nn.Module):\n",
    "    def __init__(self):\n",
    "        super(CNN,self).__init__()\n",
    "        self.conv1 = nn.Sequential(\n",
    "            nn.Conv2d(1,64,3,1,1),\n",
    "            nn.BatchNorm2d(64),\n",
    "            nn.ReLU(),\n",
    "            nn.Conv2d(64,64,3,1,1),\n",
    "            nn.BatchNorm2d(64),\n",
    "            nn.ReLU(),\n",
    "            nn.Conv2d(64,64,3,1,1),\n",
    "            nn.BatchNorm2d(64),\n",
    "            nn.ReLU()\n",
    "        )\n",
    "        self.conv2 = nn.Sequential(\n",
    "            nn.Conv2d(64,128,3,1,1),\n",
    "            nn.BatchNorm2d(128),\n",
    "            nn.ReLU(),\n",
    "            nn.Conv2d(128,128,3,1,1),\n",
    "            nn.BatchNorm2d(128),\n",
    "            nn.ReLU(),\n",
    "            nn.Conv2d(128,128,3,1,1),\n",
    "            nn.BatchNorm2d(128),\n",
    "            nn.ReLU(),\n",
    "            nn.MaxPool2d(2)\n",
    "        )\n",
    "        self.conv3 = nn.Sequential(\n",
    "            nn.Conv2d(128,256,3,1,1),\n",
    "            nn.BatchNorm2d(256),\n",
    "            nn.ReLU(),\n",
    "            nn.Conv2d(256,256,3,1,1),\n",
    "            nn.BatchNorm2d(256),\n",
    "            nn.ReLU(),\n",
    "            nn.Conv2d(256,256,3,1,1),\n",
    "            nn.BatchNorm2d(256),\n",
    "            nn.ReLU(),\n",
    "            nn.MaxPool2d(2)\n",
    "        )\n",
    "        self.fc1 = nn.Linear(7*7*256,512)\n",
    "        self.fc2 = nn.Linear(512,150)\n",
    "        self.out = nn.Linear(150,10)\n",
    "    \n",
    "    def forward(self,x):\n",
    "        x = self.conv1(x)\n",
    "        x = self.conv2(x)\n",
    "        x = self.conv3(x)\n",
    "        x = x.view(x.size(0),-1)\n",
    "        x = F.relu(self.fc1(x))\n",
    "        x = F.relu(self.fc2(x))\n",
    "        x = self.out(x)\n",
    "        return x\n"
   ]
  },
  {
   "cell_type": "code",
   "execution_count": 21,
   "metadata": {},
   "outputs": [],
   "source": [
    "net = CNN().to(device)\n",
    "criterion = nn.CrossEntropyLoss()"
   ]
  },
  {
   "cell_type": "code",
   "execution_count": 25,
   "metadata": {},
   "outputs": [
    {
     "name": "stdout",
     "output_type": "stream",
     "text": [
      "accuracy:91.88%\n"
     ]
    },
    {
     "data": {
      "text/plain": [
       "0.9188"
      ]
     },
     "execution_count": 25,
     "metadata": {},
     "output_type": "execute_result"
    }
   ],
   "source": [
    "def get_accuracy(show=False):\n",
    "    net.eval()\n",
    "    correct = 0\n",
    "    total = len(test_dataset)\n",
    "    for i,(images,labels) in enumerate(test_loader):\n",
    "        images = images.to(device)\n",
    "        predict = torch.max(net(images),1).indices.tolist()\n",
    "        correct += sum([1 for i in range(len(predict)) if predict[i]==labels[i]])\n",
    "    if show:\n",
    "        print(f\"accuracy:{(correct/total)*100:.2f}%\")\n",
    "    return correct/total\n",
    "get_accuracy(show=True)"
   ]
  },
  {
   "cell_type": "code",
   "execution_count": 31,
   "metadata": {},
   "outputs": [
    {
     "name": "stdout",
     "output_type": "stream",
     "text": [
      "epoch 1, loss 187.51969525963068, accuracy 91.79%, saved!\n",
      "epoch 2, loss 93.32476226985455, accuracy 91.88%, saved!\n",
      "epoch 3, loss 88.39122143760324, accuracy 91.82%\n"
     ]
    }
   ],
   "source": [
    "def start_training(epochs,learning_rate):\n",
    "    max_accuracy = 0.9188\n",
    "    for epoch in range(epochs):\n",
    "        net.load_state_dict(torch.load('CNN-FashionMNIST.pkl'))\n",
    "        net.train()\n",
    "        total_loss = 0\n",
    "        for i,(images,labels) in enumerate(train_loader):\n",
    "            labels = labels.to(device)\n",
    "            images = images.to(device)\n",
    "            predict = net(images)\n",
    "            loss = criterion(predict,labels)\n",
    "            optimizer = optim.Adam(net.parameters(),lr=learning_rate)\n",
    "            optimizer.zero_grad()\n",
    "            loss.backward()\n",
    "            optimizer.step()\n",
    "            total_loss += loss.item()\n",
    "        accuracy = get_accuracy()\n",
    "        if accuracy > max_accuracy:\n",
    "            max_accuracy = accuracy\n",
    "            print(f\"epoch {epoch+1}, loss {total_loss}, accuracy {max_accuracy*100:.2f}%, saved!\")\n",
    "            torch.save(net.state_dict(),'CNN-FashionMNIST.pkl')\n",
    "        else:\n",
    "            print(f\"epoch {epoch+1}, loss {total_loss}, accuracy {accuracy*100:.2f}%\")\n",
    "\n",
    "\n",
    "start_training(epochs=3,learning_rate=0.00001)"
   ]
  },
  {
   "cell_type": "code",
   "execution_count": 26,
   "metadata": {},
   "outputs": [
    {
     "name": "stdout",
     "output_type": "stream",
     "text": [
      "Correct answer:运动鞋(Sneaker)\n",
      "Predicted answer:运动鞋(Sneaker)\n"
     ]
    },
    {
     "data": {
      "image/png": "[encoded data removed]",
      "text/plain": [
       "<Figure size 432x288 with 1 Axes>"
      ]
     },
     "metadata": {
      "needs_background": "light"
     },
     "output_type": "display_data"
    },
    {
     "name": "stdout",
     "output_type": "stream",
     "text": [
      "Correct answer:裤子(Trouser)\n",
      "Predicted answer:裤子(Trouser)\n"
     ]
    },
    {
     "data": {
      "image/png": "[encoded data removed]",
      "text/plain": [
       "<Figure size 432x288 with 1 Axes>"
      ]
     },
     "metadata": {
      "needs_background": "light"
     },
     "output_type": "display_data"
    },
    {
     "name": "stdout",
     "output_type": "stream",
     "text": [
      "Correct answer:套头衫(Pullover)\n",
      "Predicted answer:套头衫(Pullover)\n"
     ]
    },
    {
     "data": {
      "image/png": "[encoded data removed]",
      "text/plain": [
       "<Figure size 432x288 with 1 Axes>"
      ]
     },
     "metadata": {
      "needs_background": "light"
     },
     "output_type": "display_data"
    },
    {
     "name": "stdout",
     "output_type": "stream",
     "text": [
      "Correct answer:运动鞋(Sneaker)\n",
      "Predicted answer:运动鞋(Sneaker)\n"
     ]
    },
    {
     "data": {
      "image/png": "[encoded data removed]",
      "text/plain": [
       "<Figure size 432x288 with 1 Axes>"
      ]
     },
     "metadata": {
      "needs_background": "light"
     },
     "output_type": "display_data"
    },
    {
     "name": "stdout",
     "output_type": "stream",
     "text": [
      "Correct answer:靴子(Ankle boot)\n",
      "Predicted answer:靴子(Ankle boot)\n"
     ]
    },
    {
     "data": {
      "image/png": "[encoded data removed]",
      "text/plain": [
       "<Figure size 432x288 with 1 Axes>"
      ]
     },
     "metadata": {
      "needs_background": "light"
     },
     "output_type": "display_data"
    }
   ],
   "source": [
    "def show_prediction(num=1):\n",
    "    net.load_state_dict(torch.load('CNN-FashionMNIST.pkl',map_location=device))\n",
    "    net.eval()\n",
    "    for i in range(num):\n",
    "        image,label = next(iter(test_loader))\n",
    "        plt.title(\"Test Sample\")\n",
    "        plt.imshow(image[0][0],cmap='gray')\n",
    "        print(f\"Correct answer:{describe[label[0].item()]}\")\n",
    "        print(f\"Predicted answer:{describe[torch.max(net(image[0].reshape(1,1,28,28)),1).indices.item()]}\")\n",
    "        plt.show()\n",
    "\n",
    "show_prediction(5)"
   ]
  }
 ],
 "metadata": {
  "interpreter": {
   "hash": "3196968d684371006099b3d55edeef8ed90365227a30deaef86e5d4aa8519be0"
  },
  "kernelspec": {
   "display_name": "Python 3.10.4 64-bit",
   "language": "python",
   "name": "python3"
  },
  "language_info": {
   "codemirror_mode": {
    "name": "ipython",
    "version": 3
   },
   "file_extension": ".py",
   "mimetype": "text/x-python",
   "name": "python",
   "nbconvert_exporter": "python",
   "pygments_lexer": "ipython3",
   "version": "3.10.4"
  },
  "orig_nbformat": 4,
  "vscode": {
   "interpreter": {
    "hash": "c3963059e8e58b9e61cd99bfe9abf3f2364125f78b7ede856039bfe8c4eb34b3"
   }
  }
 },
 "nbformat": 4,
 "nbformat_minor": 2
}
