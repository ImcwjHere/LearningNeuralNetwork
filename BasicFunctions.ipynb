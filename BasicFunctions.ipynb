{
 "cells": [
  {
   "cell_type": "code",
   "execution_count": 42,
   "metadata": {},
   "outputs": [],
   "source": [
    "import torch\n",
    "import torch.nn as nn\n",
    "import torch.optim as optim\n",
    "import torch.nn.functional as F\n",
    "from torchvision import datasets,transforms\n",
    "import torch.utils.data.dataloader as DataLoader\n",
    "import matplotlib.pyplot as plt\n",
    "import numpy as np\n",
    "%matplotlib inline"
   ]
  },
  {
   "cell_type": "code",
   "execution_count": 43,
   "metadata": {},
   "outputs": [
    {
     "name": "stdout",
     "output_type": "stream",
     "text": [
      "tensor([[[0., 0., 0., 0.],\n",
      "         [0., 0., 0., 0.],\n",
      "         [0., 0., 0., 0.]],\n",
      "\n",
      "        [[0., 0., 0., 0.],\n",
      "         [0., 0., 0., 0.],\n",
      "         [0., 0., 0., 0.]]])\n"
     ]
    }
   ],
   "source": [
    "a = torch.zeros(2,3,4) # 全0张量，两个大的，大的里面有三个中的，里面各有四个数\n",
    "print(a)"
   ]
  },
  {
   "cell_type": "code",
   "execution_count": 44,
   "metadata": {},
   "outputs": [
    {
     "name": "stdout",
     "output_type": "stream",
     "text": [
      "torch.Size([2, 3, 4])\n",
      "2\n",
      "4\n"
     ]
    }
   ],
   "source": [
    "print(a.size()) # a的大小\n",
    "print(a.size(0)) # a的大小的第一个维度\n",
    "print(a.size(2)) # a的大小的第三个维度"
   ]
  },
  {
   "cell_type": "code",
   "execution_count": 45,
   "metadata": {},
   "outputs": [
    {
     "name": "stdout",
     "output_type": "stream",
     "text": [
      "torch.Size([4, 3, 2])\n",
      "torch.Size([2, 3, 4])\n"
     ]
    }
   ],
   "source": [
    "b = a.reshape(4,3,2) # 将a的第一个维度变成4，第二个维度变成3，第三个维度变成2\n",
    "print(b.size())\n",
    "print(a.size()) # a不变，reshape不修改原数据"
   ]
  },
  {
   "cell_type": "code",
   "execution_count": 46,
   "metadata": {},
   "outputs": [
    {
     "name": "stdout",
     "output_type": "stream",
     "text": [
      "torch.Size([12, 2])\n"
     ]
    }
   ],
   "source": [
    "b = b.reshape(12,2) # 只要元素总个数不变，就可以进行reshape\n",
    "print(b.size())"
   ]
  },
  {
   "cell_type": "code",
   "execution_count": 47,
   "metadata": {},
   "outputs": [
    {
     "name": "stdout",
     "output_type": "stream",
     "text": [
      "tensor([[[1., 1., 1., 1.],\n",
      "         [1., 1., 1., 1.],\n",
      "         [1., 1., 1., 1.]],\n",
      "\n",
      "        [[1., 1., 1., 1.],\n",
      "         [1., 1., 1., 1.],\n",
      "         [1., 1., 1., 1.]]])\n",
      "tensor([[[ 0.0000e+00,  0.0000e+00,  0.0000e+00,  0.0000e+00],\n",
      "         [ 0.0000e+00,  2.8537e-01,  7.0295e+28,  6.1949e-04],\n",
      "         [ 1.9154e-19,  5.1415e-11,  4.5976e+24,  1.2736e-14]],\n",
      "\n",
      "        [[ 1.0023e-08,  1.3817e-19, -6.4437e+24, -2.1583e-35],\n",
      "         [-3.0646e-19, -2.7671e+22, -9.3166e-26, -1.1395e-30],\n",
      "         [-9.4431e+28, -1.6702e-09, -2.6175e-10, -6.2613e+24]]])\n",
      "tensor([[[0.5594, 0.0108, 0.1033, 0.6323],\n",
      "         [0.6431, 0.9099, 0.5354, 0.6635],\n",
      "         [0.0638, 0.3147, 0.1561, 0.6271]],\n",
      "\n",
      "        [[0.2996, 0.4180, 0.2278, 0.4558],\n",
      "         [0.5846, 0.8172, 0.6419, 0.7195],\n",
      "         [0.3131, 0.9798, 0.5608, 0.5478]]])\n"
     ]
    }
   ],
   "source": [
    "c = torch.ones(2,3,4) # 生成全1的数据\n",
    "print(c)\n",
    "c = torch.empty(2,3,4) # 生成空数据,但是不能用于训练,只能用于计算，随机数据\n",
    "print(c)\n",
    "c = torch.rand(2,3,4) # 生成随机数据,可以用于训练\n",
    "print(c)"
   ]
  },
  {
   "cell_type": "code",
   "execution_count": 48,
   "metadata": {},
   "outputs": [
    {
     "name": "stdout",
     "output_type": "stream",
     "text": [
      "torch.Size([2, 12])\n",
      "torch.Size([2, 3, 4])\n",
      "tensor(1.)\n",
      "tensor(1.)\n"
     ]
    }
   ],
   "source": [
    "d = c.view(2,12) # 将c的第一个维度变成2，第二个维度变成12\n",
    "print(d.size())\n",
    "print(c.size()) # view不修改原数据\n",
    "c[0][0][0] = 2 # 只能修改一个元素\n",
    "c[0,0,0] = 1 # 与上面的效果一样\n",
    "print(c[0,0,0])\n",
    "print(d[0,0]) # view共用一个内存空间，所以修改c的元素也会修改d的元素"
   ]
  },
  {
   "cell_type": "code",
   "execution_count": 50,
   "metadata": {},
   "outputs": [
    {
     "name": "stdout",
     "output_type": "stream",
     "text": [
      "a的内容:\n",
      "tensor([[0.9237, 0.5947, 0.7033],\n",
      "        [0.2948, 0.4978, 0.8189]])\n",
      "\n",
      "b的内容:\n",
      "torch.return_types.max(\n",
      "values=tensor([0.9237, 0.8189]),\n",
      "indices=tensor([0, 2]))\n",
      "\n",
      "b.indices的内容:\n",
      "tensor([0, 2])\n",
      "\n",
      "b.indices.tolist()将其转换为list:\n",
      "[0, 2]\n"
     ]
    }
   ],
   "source": [
    "a = torch.rand(2,3)\n",
    "print(f\"a的内容:\\n{a}\\n\")\n",
    "b = torch.max(a, 1) # dim = 0 表示按列求最大值，dim = 1 表示按行求最大值\n",
    "print(f\"b的内容:\\n{b}\\n\") # b中包含两个内容：最大值，最大值的索引\n",
    "print(f\"b.indices的内容:\\n{b.indices}\\n\")\n",
    "print(f\"b.indices.tolist()将其转换为list:\\n{b.indices.tolist()}\")"
   ]
  }
 ],
 "metadata": {
  "kernelspec": {
   "display_name": "Python 3.10.4 ('learning')",
   "language": "python",
   "name": "python3"
  },
  "language_info": {
   "codemirror_mode": {
    "name": "ipython",
    "version": 3
   },
   "file_extension": ".py",
   "mimetype": "text/x-python",
   "name": "python",
   "nbconvert_exporter": "python",
   "pygments_lexer": "ipython3",
   "version": "3.10.4"
  },
  "orig_nbformat": 4,
  "vscode": {
   "interpreter": {
    "hash": "c3963059e8e58b9e61cd99bfe9abf3f2364125f78b7ede856039bfe8c4eb34b3"
   }
  }
 },
 "nbformat": 4,
 "nbformat_minor": 2
}
