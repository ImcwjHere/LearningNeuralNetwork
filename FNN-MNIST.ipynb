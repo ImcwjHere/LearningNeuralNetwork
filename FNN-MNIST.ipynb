{
 "cells": [
  {
   "cell_type": "code",
   "execution_count": 191,
   "metadata": {},
   "outputs": [],
   "source": [
    "import torch\n",
    "from torch import nn, optim\n",
    "import torch.nn.functional as F\n",
    "from torch.utils.data import DataLoader\n",
    "import torchvision"
   ]
  },
  {
   "cell_type": "code",
   "execution_count": 192,
   "metadata": {},
   "outputs": [],
   "source": [
    "# 读取数据\n",
    "trans = torchvision.transforms.ToTensor() # 通过ToTensor将图像数据变换成float32格式\n",
    "mnist_train = torchvision.datasets.MNIST(\n",
    "    root=\"../data\", train=True, transform=trans, download=True)\n",
    "mnist_test = torchvision.datasets.MNIST(\n",
    "    root=\"../data\", train=False, transform=trans, download=True)"
   ]
  },
  {
   "cell_type": "code",
   "execution_count": 193,
   "metadata": {},
   "outputs": [
    {
     "data": {
      "image/png": "[encoded data removed]",
      "text/plain": [
       "<Figure size 432x288 with 1 Axes>"
      ]
     },
     "metadata": {
      "needs_background": "light"
     },
     "output_type": "display_data"
    },
    {
     "name": "stdout",
     "output_type": "stream",
     "text": [
      "对应的答案是3\n"
     ]
    }
   ],
   "source": [
    "bachSize = 50\n",
    "train_dataloader = DataLoader(mnist_train, batch_size = bachSize, shuffle = True)\n",
    "test_dataloader = DataLoader(mnist_test, batch_size = bachSize, shuffle = True)\n",
    "# train_dataloader存储数据格式为[[50个图片（28x28）],[50个答案]]\n",
    "\n",
    "from matplotlib import pyplot\n",
    "\n",
    "for i in train_dataloader:\n",
    "    pyplot.imshow(i[0][0].reshape(28,28), cmap=\"gray\") # 输出图像\n",
    "    pyplot.title(\"Train Case\")\n",
    "    pyplot.show()\n",
    "    print(f\"对应的答案是{i[1][0]}\")\n",
    "    break\n",
    "\n",
    "# train格式为[[数据],[答案]]"
   ]
  },
  {
   "cell_type": "code",
   "execution_count": 209,
   "metadata": {},
   "outputs": [],
   "source": [
    "class Learning(nn.Module):\n",
    "\n",
    "    def __init__(self):\n",
    "        super(Learning, self).__init__()\n",
    "        self.fc1 = nn.Linear(784, 256)\n",
    "        self.fc2 = nn.Linear(256, 200)\n",
    "        self.fc3 = nn.Linear(200, 400)\n",
    "        self.out = nn.Linear(400, 10)\n",
    "    \n",
    "    def forward(self, x):\n",
    "        x = F.relu(self.fc1(x))\n",
    "        x = F.relu(self.fc2(x))\n",
    "        x = F.relu(self.fc3(x))\n",
    "        x = self.out(x)\n",
    "        return x\n",
    "\n",
    "\n",
    "net = Learning()\n",
    "loss_func = nn.CrossEntropyLoss()"
   ]
  },
  {
   "cell_type": "code",
   "execution_count": 210,
   "metadata": {},
   "outputs": [
    {
     "name": "stdout",
     "output_type": "stream",
     "text": [
      "epoch 1 loss 2.075618267059326\n",
      "epoch 2 loss 1.0330337285995483\n",
      "epoch 3 loss 1.8944175243377686\n",
      "epoch 4 loss 6.5770039558410645\n",
      "epoch 5 loss 2.3094708919525146\n",
      "epoch 6 loss 1.6775952577590942\n",
      "epoch 7 loss 1.388811469078064\n",
      "epoch 8 loss 1.3389027118682861\n",
      "epoch 9 loss 1.6393741369247437\n",
      "epoch 10 loss 1.680294156074524\n",
      "epoch 11 loss 1.9139045476913452\n",
      "epoch 12 loss 2.7127959728240967\n",
      "epoch 13 loss 1.9843940734863281\n",
      "epoch 14 loss 2.9275472164154053\n",
      "epoch 15 loss 2.9388976097106934\n",
      "epoch 16 loss 2.4728496074676514\n",
      "epoch 17 loss 3.335465908050537\n",
      "epoch 18 loss 2.856302499771118\n",
      "epoch 19 loss 2.8018088340759277\n",
      "epoch 20 loss 2.519913673400879\n",
      "epoch 21 loss 2.9523956775665283\n",
      "epoch 22 loss 4.556051254272461\n",
      "epoch 23 loss 3.134025812149048\n",
      "epoch 24 loss 2.9938271045684814\n",
      "epoch 25 loss 4.09746789932251\n",
      "epoch 26 loss 5.829850673675537\n",
      "epoch 27 loss 3.8257851600646973\n",
      "epoch 28 loss 4.769731521606445\n",
      "epoch 29 loss 3.980663776397705\n",
      "epoch 30 loss 4.42471981048584\n"
     ]
    }
   ],
   "source": [
    "def start(epochs,learningrate):\n",
    "    \n",
    "    for i in range(epochs):\n",
    "        net.train()\n",
    "        for data, label in train_dataloader:\n",
    "            data = data.reshape(bachSize,784)\n",
    "            out = net(data)\n",
    "            loss = loss_func(out, label)\n",
    "            optimizer = optim.Adam(net.parameters(), lr=learningrate)\n",
    "            loss.backward()\n",
    "            optimizer.step()\n",
    "            optimizer.zero_grad()\n",
    "\n",
    "        net.eval()\n",
    "        total_loss = 0\n",
    "        with torch.no_grad():\n",
    "            for data, label in test_dataloader:\n",
    "                data = data.reshape(bachSize,784)\n",
    "                out = net(data)\n",
    "                loss = loss_func(out, label)\n",
    "                total_loss += loss\n",
    "        print(f\"epoch {i+1} loss {total_loss/len(test_dataloader)}\")\n",
    "\n",
    "start(epochs = 30,learningrate = 0.01)\n"
   ]
  },
  {
   "cell_type": "code",
   "execution_count": 215,
   "metadata": {},
   "outputs": [
    {
     "name": "stdout",
     "output_type": "stream",
     "text": [
      "epoch 1 loss 4.5534749031066895\n"
     ]
    }
   ],
   "source": [
    "start(epochs = 1,learningrate = 0.01)"
   ]
  },
  {
   "cell_type": "code",
   "execution_count": 216,
   "metadata": {},
   "outputs": [
    {
     "name": "stdout",
     "output_type": "stream",
     "text": [
      "正确率为97.14%\n"
     ]
    }
   ],
   "source": [
    "def test():\n",
    "    total = 0\n",
    "    correct = 0\n",
    "    net.eval()\n",
    "    with torch.no_grad():\n",
    "        for data, label in test_dataloader:\n",
    "            correct_ans = label.tolist()\n",
    "            t = net(data.reshape(bachSize,784))\n",
    "            predict_ans = torch.max(t.data, 1).indices.tolist()\n",
    "            total += label.size(0)\n",
    "            for i in range(len(correct_ans)):\n",
    "                if correct_ans[i] == predict_ans[i]:\n",
    "                    correct += 1\n",
    "    print(f\"正确率为{(correct/total)*100}%\")\n",
    "\n",
    "test()"
   ]
  },
  {
   "cell_type": "code",
   "execution_count": 212,
   "metadata": {},
   "outputs": [
    {
     "name": "stdout",
     "output_type": "stream",
     "text": [
      "正确答案是4，预测答案是4\n"
     ]
    },
    {
     "data": {
      "image/png": "[encoded data removed]",
      "text/plain": [
       "<Figure size 432x288 with 1 Axes>"
      ]
     },
     "metadata": {
      "needs_background": "light"
     },
     "output_type": "display_data"
    },
    {
     "name": "stdout",
     "output_type": "stream",
     "text": [
      "正确答案是3，预测答案是3\n"
     ]
    },
    {
     "data": {
      "image/png": "[encoded data removed]",
      "text/plain": [
       "<Figure size 432x288 with 1 Axes>"
      ]
     },
     "metadata": {
      "needs_background": "light"
     },
     "output_type": "display_data"
    },
    {
     "name": "stdout",
     "output_type": "stream",
     "text": [
      "正确答案是4，预测答案是4\n"
     ]
    },
    {
     "data": {
      "image/png": "[encoded data removed]",
      "text/plain": [
       "<Figure size 432x288 with 1 Axes>"
      ]
     },
     "metadata": {
      "needs_background": "light"
     },
     "output_type": "display_data"
    }
   ],
   "source": [
    "def show():\n",
    "    for i in range(3):\n",
    "        data, label = test_dataloader.__iter__().__next__()\n",
    "        data = data.reshape(bachSize,784)\n",
    "        out = net(data)\n",
    "        predict_ans = torch.max(out.data, 1).indices.tolist()\n",
    "        print(f\"正确答案是{label[0]}，预测答案是{predict_ans[0]}\")\n",
    "        pyplot.imshow(data[0].reshape(28,28), cmap=\"gray\")\n",
    "        pyplot.title(\"Test Case\")\n",
    "        pyplot.show()\n",
    "show()"
   ]
  }
 ],
 "metadata": {
  "kernelspec": {
   "display_name": "Python 3.10.4 ('learning')",
   "language": "python",
   "name": "python3"
  },
  "language_info": {
   "codemirror_mode": {
    "name": "ipython",
    "version": 3
   },
   "file_extension": ".py",
   "mimetype": "text/x-python",
   "name": "python",
   "nbconvert_exporter": "python",
   "pygments_lexer": "ipython3",
   "version": "3.10.4"
  },
  "orig_nbformat": 4,
  "vscode": {
   "interpreter": {
    "hash": "c3963059e8e58b9e61cd99bfe9abf3f2364125f78b7ede856039bfe8c4eb34b3"
   }
  }
 },
 "nbformat": 4,
 "nbformat_minor": 2
}
